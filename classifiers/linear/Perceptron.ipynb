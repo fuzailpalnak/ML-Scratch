{
 "cells": [
  {
   "cell_type": "code",
   "execution_count": 1,
   "metadata": {},
   "outputs": [],
   "source": [
    "import sys\n",
    "import numpy as np\n",
    "%matplotlib qt\n",
    "from matplotlib import pyplot as plt"
   ]
  },
  {
   "cell_type": "code",
   "execution_count": 2,
   "metadata": {},
   "outputs": [],
   "source": [
    "def dynamic_print(data):\n",
    "    sys.stdout.write(\"\\r\\x1b[K\" + data)\n",
    "    sys.stdout.flush()"
   ]
  },
  {
   "cell_type": "code",
   "execution_count": 3,
   "metadata": {},
   "outputs": [],
   "source": [
    "def plt_data_t(title, number_of_points):\n",
    "    plt.title(title, fontsize=10)\n",
    "    plt.draw()\n",
    "    pts = np.asarray(plt.ginput(number_of_points, timeout=-1))\n",
    "    return pts"
   ]
  },
  {
   "cell_type": "code",
   "execution_count": 4,
   "metadata": {},
   "outputs": [],
   "source": [
    "def populate_data():\n",
    "    positive, negative = get_data(10)\n",
    "    X = list()\n",
    "    Y = list()\n",
    "    for i in range(len(positive)):\n",
    "        data = [positive[i][0], positive[i][1], 1]\n",
    "        X.append(np.array(data))\n",
    "        Y.append(1)\n",
    "    for i in range(len(negative)):\n",
    "        data = [negative[i][0], negative[i][1], 1]\n",
    "        X.append(np.array(data))\n",
    "        Y.append(-1)\n",
    "    return positive, negative, X, Y"
   ]
  },
  {
   "cell_type": "code",
   "execution_count": 5,
   "metadata": {},
   "outputs": [],
   "source": [
    "def get_data(number_of_points):\n",
    "    plt.clf()\n",
    "    plt.setp(plt.gca(), autoscale_on=False)\n",
    "    positive = plt_data_t(\"Positive Class\", number_of_points)\n",
    "    negative = plt_data_t(\"Negative Class\", number_of_points)\n",
    "\n",
    "    plt.title(\"DATA\", fontsize=10)\n",
    "    plt.scatter(positive[:, 0], positive[:, 1], marker=\"o\")\n",
    "    plt.scatter(negative[:, 0], negative[:, 1], marker=\"x\")\n",
    "\n",
    "    plt.draw()\n",
    "    return positive, negative"
   ]
  },
  {
   "cell_type": "markdown",
   "metadata": {},
   "source": [
    "#### Get Positive and Negative Data Points, This block of code will load a Interactive GUI which will wait for user to provide input"
   ]
  },
  {
   "cell_type": "code",
   "execution_count": 6,
   "metadata": {},
   "outputs": [
    {
     "data": {
      "image/png": "[encoded data removed]",
      "text/plain": [
       "<Figure size 360x360 with 1 Axes>"
      ]
     },
     "metadata": {
      "needs_background": "light"
     },
     "output_type": "display_data"
    }
   ],
   "source": [
    "positive, negative, X, Y = populate_data()\n",
    "plt.close()\n",
    "%matplotlib inline\n",
    "plt.rcParams[\"figure.figsize\"] = (5, 5)\n",
    "plt.scatter(positive[:, 0], positive[:, 1], marker=\"o\", label=\"positive\")\n",
    "plt.scatter(negative[:, 0], negative[:, 1], marker=\"x\", label=\"negative\")\n",
    "plt.title(\"Data\")\n",
    "plt.legend(loc=\"upper left\")\n",
    "plt.show()"
   ]
  },
  {
   "cell_type": "markdown",
   "metadata": {},
   "source": [
    "$$w^T * x =\\begin{cases}\\text{positive values } & w^T* x \\geq 0\\\\\\text{negative values } & w^T* x <  0\\end{cases}$$"
   ]
  },
  {
   "cell_type": "code",
   "execution_count": 7,
   "metadata": {},
   "outputs": [],
   "source": [
    "def decision_rule(w, x):\n",
    "    return np.dot(w, x)"
   ]
  },
  {
   "cell_type": "markdown",
   "metadata": {},
   "source": [
    "$$\\text{if }y * w^T * x <= 0 \\text{ then }\\vec{w}  = \\vec{w}  + y * \\vec{x}$$"
   ]
  },
  {
   "cell_type": "code",
   "execution_count": 8,
   "metadata": {},
   "outputs": [],
   "source": [
    "def update(w, x, y):\n",
    "    w += y * x\n",
    "    return w"
   ]
  },
  {
   "cell_type": "code",
   "execution_count": 9,
   "metadata": {},
   "outputs": [],
   "source": [
    "def train(w):\n",
    "    step = 0\n",
    "    while True:\n",
    "        miss_classified = 0\n",
    "        for iterator in range(len(X)):\n",
    "            x = X[iterator]\n",
    "            y = Y[iterator]\n",
    "            if decision_rule(w, x) * y <= 0:\n",
    "                # Miss classified the data point and adjust the weight\n",
    "                w_prev = w\n",
    "                w = update(w, x, y)\n",
    "                miss_classified = miss_classified + 1\n",
    "                dynamic_print(\"Adjusting Weight from w: {} to w_new: {}\".format(\n",
    "                        tuple(w_prev), tuple(w)))\n",
    "    #     plt_decision_boundary()\n",
    "        step += 1\n",
    "        if miss_classified == 0:\n",
    "            # if no miss classified then the perceptron has converged and found a hyperplane\n",
    "            print(\"\\nPerceptron Converged on Step : {}\".format(step))\n",
    "            break\n",
    "    return w"
   ]
  },
  {
   "cell_type": "code",
   "execution_count": 10,
   "metadata": {},
   "outputs": [
    {
     "name": "stdout",
     "output_type": "stream",
     "text": [
      "\u001b[KAdjusting Weight from w: (1.718617856711369, 0.3640870170838628, -1.0) to w_new: (1.718617856711369, 0.3640870170838628, -1.0)1.0)0)0)\n",
      "Perceptron Converged on Step : 7\n"
     ]
    }
   ],
   "source": [
    "W = train(np.array([0.0, 0.0, 0.0]))"
   ]
  },
  {
   "cell_type": "code",
   "execution_count": 11,
   "metadata": {},
   "outputs": [],
   "source": [
    "%matplotlib inline\n",
    "def slope_intercept():\n",
    "    a, b, c = tuple(W)\n",
    "    return -a / b, -c / b\n",
    "\n",
    "def plt_decision_boundary():\n",
    "    slope, intercept = slope_intercept()\n",
    "\n",
    "    x = np.linspace(0, 1)\n",
    "    y = slope * x + intercept\n",
    "\n",
    "    plt.plot(x, y, \"-r\", label=\"decision boundary\")\n",
    "\n",
    "    plt.scatter(positive[:, 0], positive[:, 1], marker=\"o\")\n",
    "    plt.scatter(negative[:, 0], negative[:, 1], marker=\"x\")\n",
    "    plt.title(\"Graph of Decision Boundary\")\n",
    "    plt.xlabel(\"x\", color=\"#1C2833\")\n",
    "    plt.ylabel(\"y\", color=\"#1C2833\")\n",
    "    plt.legend(loc=\"upper left\")\n",
    "    plt.axis([0.0, 1, 0, 1])\n"
   ]
  },
  {
   "cell_type": "code",
   "execution_count": 12,
   "metadata": {},
   "outputs": [
    {
     "data": {
      "image/png": "[encoded data removed]",
      "text/plain": [
       "<Figure size 432x288 with 1 Axes>"
      ]
     },
     "metadata": {
      "needs_background": "light"
     },
     "output_type": "display_data"
    }
   ],
   "source": [
    "plt_decision_boundary()"
   ]
  }
 ],
 "metadata": {
  "kernelspec": {
   "display_name": "Python 3",
   "language": "python",
   "name": "python3"
  },
  "language_info": {
   "codemirror_mode": {
    "name": "ipython",
    "version": 3
   },
   "file_extension": ".py",
   "mimetype": "text/x-python",
   "name": "python",
   "nbconvert_exporter": "python",
   "pygments_lexer": "ipython3",
   "version": "3.7.6"
  }
 },
 "nbformat": 4,
 "nbformat_minor": 4
}
