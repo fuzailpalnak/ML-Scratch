{
 "cells": [
  {
   "cell_type": "code",
   "execution_count": 1,
   "metadata": {},
   "outputs": [],
   "source": [
    "import sys\n",
    "import os\n",
    "import numpy as np\n",
    "import random\n",
    "%matplotlib qt\n",
    "from matplotlib import pyplot as plt\n",
    "\n",
    "module_path = os.path.abspath(os.path.join('../..'))\n",
    "if module_path not in sys.path:\n",
    "    sys.path.append(module_path)\n",
    "from kernels import kernel"
   ]
  },
  {
   "cell_type": "code",
   "execution_count": 2,
   "metadata": {},
   "outputs": [],
   "source": [
    "def dynamic_print(data):\n",
    "    sys.stdout.write(\"\\r\\x1b[K\" + data)\n",
    "    sys.stdout.flush()"
   ]
  },
  {
   "cell_type": "code",
   "execution_count": 3,
   "metadata": {},
   "outputs": [],
   "source": [
    "def get_data(number_of_points):\n",
    "    X = list()\n",
    "    Y = list()\n",
    "    \n",
    "    dump_x = list()\n",
    "    dump_y = list()\n",
    "    \n",
    "    a = list()\n",
    "    b = list()\n",
    "    for v in range(2):\n",
    "        if v == 0:\n",
    "            R = 1\n",
    "            lbl = 1\n",
    "        else:\n",
    "            R = 0.3\n",
    "            lbl = -1\n",
    "        r = R * np.sqrt(np.random.random())\n",
    "        for i in range(0, number_of_points):\n",
    "            theta = np.random.random() * 2 * np.pi\n",
    "            x = 0 + r * np.cos(theta)\n",
    "            y = 0 + r * np.sin(theta)\n",
    "            \n",
    "            dump_x.append(x)\n",
    "            dump_y.append(y)\n",
    "            \n",
    "            data = [1, x, y]\n",
    "            X.append(np.array(data))\n",
    "            Y.append(lbl)\n",
    "            \n",
    "    return dump_x, dump_y, X, Y"
   ]
  },
  {
   "cell_type": "code",
   "execution_count": 4,
   "metadata": {},
   "outputs": [
    {
     "data": {
      "text/plain": [
       "<matplotlib.collections.PathCollection at 0x247bcce0888>"
      ]
     },
     "execution_count": 4,
     "metadata": {},
     "output_type": "execute_result"
    },
    {
     "data": {
      "image/png": "[encoded data removed]",
      "text/plain": [
       "<Figure size 432x288 with 1 Axes>"
      ]
     },
     "metadata": {
      "needs_background": "light"
     },
     "output_type": "display_data"
    }
   ],
   "source": [
    "num_points = 1000\n",
    "dump_x, dump_y, X, Y = get_data(num_points)\n",
    "# positive_test, negative_test, TEST_X, TEST_Y = populate_data(5)\n",
    "\n",
    "# X = (number_of_data_points, number_of_features)\n",
    "X = np.array(X)\n",
    "\n",
    "# Y = (number_of_data_points)\n",
    "Y = np.array(Y)\n",
    "\n",
    "c = list(zip(X, Y))\n",
    "random.shuffle(c)\n",
    "X, Y = zip(*c)\n",
    "\n",
    "X = np.array(X)\n",
    "Y = np.array(Y)\n",
    "\n",
    "%matplotlib inline\n",
    "plt.scatter(dump_x[0:num_points], dump_y[0:num_points], marker=\"o\", label=\"positive\")\n",
    "plt.scatter(dump_x[num_points:], dump_y[num_points:], marker=\"x\", label=\"negative\")\n",
    "\n"
   ]
  },
  {
   "cell_type": "code",
   "execution_count": 5,
   "metadata": {},
   "outputs": [],
   "source": [
    "def sigmoid_training(alpha, y):\n",
    "    \"\"\"\n",
    "        alpha is of shape (n)\n",
    "        n = number of data points\n",
    "\n",
    "        true_labels is of shape (n)\n",
    "        n = number of data points\n",
    "        \n",
    "        Training all samples in a single batch \n",
    "\n",
    "    \"\"\"\n",
    "    return 1 / (1 + np.exp(-rbf_kernel.classifier_product_rule(alpha, y)))"
   ]
  },
  {
   "cell_type": "code",
   "execution_count": 6,
   "metadata": {},
   "outputs": [],
   "source": [
    "def sigmoid_testing(alpha, z):\n",
    "    \"\"\"\n",
    "        alpha is of shape (n)\n",
    "        n = number of data points\n",
    "\n",
    "        true_labels is of shape (n)\n",
    "        n = number of data points\n",
    "        \n",
    "        Training all samples in a single batch \n",
    "\n",
    "    \"\"\"\n",
    "    decision = rbf_kernel.decision(z)\n",
    "    decision = alpha.T.dot(decision)\n",
    "    return 1 / (1 + np.exp(-decision))"
   ]
  },
  {
   "cell_type": "code",
   "execution_count": 7,
   "metadata": {},
   "outputs": [],
   "source": [
    "def expo(alpha, y):\n",
    "    \"\"\"\n",
    "        alpha is of shape (n)\n",
    "        n = number of data points\n",
    "\n",
    "        true_labels is of shape (n)\n",
    "        n = number of data points\n",
    "        \n",
    "        Training all samples in a single batch \n",
    "\n",
    "    \"\"\"\n",
    "    z = rbf_kernel.classifier_product_rule(alpha, y)\n",
    "    return np.exp(-z)"
   ]
  },
  {
   "cell_type": "code",
   "execution_count": 8,
   "metadata": {},
   "outputs": [],
   "source": [
    "def loss(alpha, y):\n",
    "    \"\"\"\n",
    "        alpha is of shape (n)\n",
    "        n = number of data points\n",
    "\n",
    "        true_labels is of shape (n)\n",
    "        n = number of data points\n",
    "        \n",
    "        Training all samples in a single batch \n",
    "\n",
    "    \"\"\"\n",
    "    return np.log(1 + expo(alpha, y)).mean()"
   ]
  },
  {
   "cell_type": "code",
   "execution_count": 9,
   "metadata": {},
   "outputs": [],
   "source": [
    "def gradient(alpha, y):\n",
    "    \"\"\"\n",
    "        alpha is of shape (n)\n",
    "        n = number of data points\n",
    "\n",
    "        true_labels is of shape (n)\n",
    "        n = number of data points\n",
    "        \n",
    "        Training all samples in a single batch \n",
    "\n",
    "    \"\"\"\n",
    "        \n",
    "    return sigmoid_training(alpha, y) * expo(alpha, y) * (-(np.mean(y.dot(rbf_kernel.input_kernel_matrix))))"
   ]
  },
  {
   "cell_type": "code",
   "execution_count": 10,
   "metadata": {},
   "outputs": [],
   "source": [
    "def train(alpha, lr, num_iter):\n",
    "    for num_iter in range(num_iter):\n",
    "        alpha -= lr * gradient(alpha, Y)\n",
    "        dynamic_print(\"Step: {} Loss : {}\".format(num_iter+1, loss(alpha, Y)))\n",
    "    print(\"\\nTraining Complete\")\n",
    "    return alpha"
   ]
  },
  {
   "cell_type": "code",
   "execution_count": 11,
   "metadata": {},
   "outputs": [
    {
     "name": "stdout",
     "output_type": "stream",
     "text": [
      "\u001b[KStep: 10000 Loss : 0.0\n",
      "Training Complete\n"
     ]
    }
   ],
   "source": [
    "# Compute kernel matrix\n",
    "rbf_kernel = kernel.RBF(X, sigma=0.3)\n",
    "ALPHA = np.zeros(num_points*2)\n",
    "\n",
    "W = train(ALPHA, 0.001, 10000)"
   ]
  },
  {
   "cell_type": "code",
   "execution_count": 14,
   "metadata": {},
   "outputs": [
    {
     "data": {
      "image/png": "[encoded data removed]",
      "text/plain": [
       "<Figure size 432x288 with 1 Axes>"
      ]
     },
     "metadata": {
      "needs_background": "light"
     },
     "output_type": "display_data"
    },
    {
     "ename": "IndexError",
     "evalue": "too many indices for array",
     "output_type": "error",
     "traceback": [
      "\u001b[1;31m---------------------------------------------------------------------------\u001b[0m",
      "\u001b[1;31mIndexError\u001b[0m                                Traceback (most recent call last)",
      "\u001b[1;32m<ipython-input-14-b73025380a4b>\u001b[0m in \u001b[0;36m<module>\u001b[1;34m\u001b[0m\n\u001b[0;32m     30\u001b[0m \u001b[1;33m\u001b[0m\u001b[0m\n\u001b[0;32m     31\u001b[0m \u001b[0mplt\u001b[0m\u001b[1;33m.\u001b[0m\u001b[0mscatter\u001b[0m\u001b[1;33m(\u001b[0m\u001b[0mnp\u001b[0m\u001b[1;33m.\u001b[0m\u001b[0marray\u001b[0m\u001b[1;33m(\u001b[0m\u001b[0mpositive_class\u001b[0m\u001b[1;33m)\u001b[0m\u001b[1;33m[\u001b[0m\u001b[1;33m:\u001b[0m\u001b[1;33m,\u001b[0m \u001b[1;36m0\u001b[0m\u001b[1;33m]\u001b[0m\u001b[1;33m,\u001b[0m \u001b[0mnp\u001b[0m\u001b[1;33m.\u001b[0m\u001b[0marray\u001b[0m\u001b[1;33m(\u001b[0m\u001b[0mpositive_class\u001b[0m\u001b[1;33m)\u001b[0m\u001b[1;33m[\u001b[0m\u001b[1;33m:\u001b[0m\u001b[1;33m,\u001b[0m \u001b[1;36m1\u001b[0m\u001b[1;33m]\u001b[0m\u001b[1;33m,\u001b[0m \u001b[0mmarker\u001b[0m\u001b[1;33m=\u001b[0m\u001b[1;34m\"o\"\u001b[0m\u001b[1;33m,\u001b[0m \u001b[0mc\u001b[0m\u001b[1;33m=\u001b[0m\u001b[1;34m\"red\"\u001b[0m\u001b[1;33m)\u001b[0m\u001b[1;33m\u001b[0m\u001b[1;33m\u001b[0m\u001b[0m\n\u001b[1;32m---> 32\u001b[1;33m \u001b[0mplt\u001b[0m\u001b[1;33m.\u001b[0m\u001b[0mscatter\u001b[0m\u001b[1;33m(\u001b[0m\u001b[0mnp\u001b[0m\u001b[1;33m.\u001b[0m\u001b[0marray\u001b[0m\u001b[1;33m(\u001b[0m\u001b[0mnegative_class\u001b[0m\u001b[1;33m)\u001b[0m\u001b[1;33m[\u001b[0m\u001b[1;33m:\u001b[0m\u001b[1;33m,\u001b[0m \u001b[1;36m0\u001b[0m\u001b[1;33m]\u001b[0m\u001b[1;33m,\u001b[0m \u001b[0mnp\u001b[0m\u001b[1;33m.\u001b[0m\u001b[0marray\u001b[0m\u001b[1;33m(\u001b[0m\u001b[0mnegative_class\u001b[0m\u001b[1;33m)\u001b[0m\u001b[1;33m[\u001b[0m\u001b[1;33m:\u001b[0m\u001b[1;33m,\u001b[0m \u001b[1;36m1\u001b[0m\u001b[1;33m]\u001b[0m\u001b[1;33m,\u001b[0m \u001b[0mmarker\u001b[0m\u001b[1;33m=\u001b[0m\u001b[1;34m\"x\"\u001b[0m\u001b[1;33m,\u001b[0m \u001b[0mc\u001b[0m\u001b[1;33m=\u001b[0m\u001b[1;34m\"green\"\u001b[0m\u001b[1;33m)\u001b[0m\u001b[1;33m\u001b[0m\u001b[1;33m\u001b[0m\u001b[0m\n\u001b[0m",
      "\u001b[1;31mIndexError\u001b[0m: too many indices for array"
     ]
    },
    {
     "data": {
      "image/png": "[encoded data removed]",
      "text/plain": [
       "<Figure size 432x288 with 1 Axes>"
      ]
     },
     "metadata": {
      "needs_background": "light"
     },
     "output_type": "display_data"
    }
   ],
   "source": [
    "test_points = 30\n",
    "dump_x, dump_y, X_TEST, Y_TEST = get_data(test_points)\n",
    "# positive_test, negative_test, TEST_X, TEST_Y = populate_data(5)\n",
    "\n",
    "# X = (number_of_data_points, number_of_features)\n",
    "X_TEST = np.array(X_TEST)\n",
    "\n",
    "# Y = (number_of_data_points)\n",
    "Y_TEST = np.array(Y_TEST)\n",
    "\n",
    "\n",
    "%matplotlib inline\n",
    "plt.scatter(dump_x[0:test_points], dump_y[0:test_points], marker=\"o\", label=\"positive\")\n",
    "plt.scatter(dump_x[test_points:], dump_y[test_points:], marker=\"x\", label=\"negative\")\n",
    "plt.show()\n",
    "\n",
    "positive_class = list()\n",
    "negative_class = list()\n",
    "for x1 in range(0, test_points):\n",
    "    f = np.array(X_TEST[x1])\n",
    "    f = f.reshape(1, 3)\n",
    "    if sigmoid_testing(W, f) > 0.50 and Y_TEST[x1] == 1:\n",
    "        positive_class.append([X_TEST[x1][1], X_TEST[x1][2]])\n",
    "    else:\n",
    "        negative_class.append([X_TEST[x1][1], X_TEST[x1][2]])\n",
    "\n",
    "\n",
    "\n",
    "plt.title(\"Prediction\", fontsize=10)\n",
    "\n",
    "plt.scatter(np.array(positive_class)[:, 0], np.array(positive_class)[:, 1], marker=\"o\", c=\"red\")\n",
    "# plt.scatter(np.array(negative_class)[:, 0], np.array(negative_class)[:, 1], marker=\"x\", c=\"green\")"
   ]
  }
 ],
 "metadata": {
  "kernelspec": {
   "display_name": "Python 3",
   "language": "python",
   "name": "python3"
  },
  "language_info": {
   "codemirror_mode": {
    "name": "ipython",
    "version": 3
   },
   "file_extension": ".py",
   "mimetype": "text/x-python",
   "name": "python",
   "nbconvert_exporter": "python",
   "pygments_lexer": "ipython3",
   "version": "3.7.6"
  }
 },
 "nbformat": 4,
 "nbformat_minor": 4
}
