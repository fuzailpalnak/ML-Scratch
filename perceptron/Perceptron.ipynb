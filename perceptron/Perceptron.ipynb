{
 "cells": [
  {
   "cell_type": "code",
   "execution_count": 21,
   "metadata": {},
   "outputs": [],
   "source": [
    "import numpy as np\n",
    "import matplotlib\n",
    "matplotlib.use('TkAgg')\n",
    "from matplotlib import pyplot as plt"
   ]
  },
  {
   "cell_type": "code",
   "execution_count": 22,
   "metadata": {},
   "outputs": [],
   "source": [
    "def plt_data_t(title, number_of_points):\n",
    "    plt.title(title, fontsize=10)\n",
    "    plt.draw()\n",
    "    pts = np.asarray(plt.ginput(number_of_points, timeout=-1))\n",
    "    return pts"
   ]
  },
  {
   "cell_type": "code",
   "execution_count": 23,
   "metadata": {},
   "outputs": [],
   "source": [
    "def populate_data():\n",
    "    positive, negative = get_data(10)\n",
    "    X = list()\n",
    "    Y = list()\n",
    "    for i in range(len(positive)):\n",
    "        data = [positive[i][0], positive[i][1], 1]\n",
    "        X.append(np.array(data))\n",
    "        Y.append(1)\n",
    "    for i in range(len(negative)):\n",
    "        data = [negative[i][0], negative[i][1], 1]\n",
    "        X.append(np.array(data))\n",
    "        Y.append(-1)\n",
    "    return positive, negative, X, Y"
   ]
  },
  {
   "cell_type": "code",
   "execution_count": 24,
   "metadata": {},
   "outputs": [],
   "source": [
    "def get_data(number_of_points):\n",
    "    plt.clf()\n",
    "    plt.setp(plt.gca(), autoscale_on=False)\n",
    "    positive = plt_data_t(\"Positive Class\", number_of_points)\n",
    "    negative = plt_data_t(\"Negative Class\", number_of_points)\n",
    "\n",
    "    plt.title(\"DATA\", fontsize=10)\n",
    "    plt.scatter(positive[:, 0], positive[:, 1], marker=\"o\")\n",
    "    plt.scatter(negative[:, 0], negative[:, 1], marker=\"x\")\n",
    "\n",
    "    plt.draw()\n",
    "    return positive, negative"
   ]
  },
  {
   "cell_type": "markdown",
   "metadata": {},
   "source": [
    "#### Get Positive and Negative Data Points, This block of code will load a Interactive GUI which will wait for user to provide input"
   ]
  },
  {
   "cell_type": "code",
   "execution_count": 25,
   "metadata": {},
   "outputs": [
    {
     "data": {
      "image/png": "[encoded data removed]",
      "text/plain": [
       "<Figure size 432x288 with 1 Axes>"
      ]
     },
     "metadata": {
      "needs_background": "light"
     },
     "output_type": "display_data"
    }
   ],
   "source": [
    "positive, negative, X, Y = populate_data()"
   ]
  },
  {
   "cell_type": "markdown",
   "metadata": {},
   "source": [
    "$$w^T * x =\\begin{cases}\\text{positive values } & w^T* x \\geq 0\\\\\\text{negative values } & w^T* x <  0\\end{cases}$$"
   ]
  },
  {
   "cell_type": "code",
   "execution_count": 32,
   "metadata": {},
   "outputs": [],
   "source": [
    "def decision_rule(w, x):\n",
    "    return np.dot(w, x)"
   ]
  },
  {
   "cell_type": "markdown",
   "metadata": {},
   "source": [
    "$$\\text{if }y * w^T * x <= 0 \\text{ then }\\vec{w}  = \\vec{w}  + y * \\vec{x}$$"
   ]
  },
  {
   "cell_type": "code",
   "execution_count": 27,
   "metadata": {},
   "outputs": [],
   "source": [
    "def update(w, x, y):\n",
    "    w += y * x\n",
    "    return w"
   ]
  },
  {
   "cell_type": "markdown",
   "metadata": {},
   "source": []
  },
  {
   "cell_type": "code",
   "execution_count": 28,
   "metadata": {},
   "outputs": [],
   "source": [
    "def train(w):\n",
    "    step = 0\n",
    "    while True:\n",
    "        miss_classified = 0\n",
    "        for iterator in range(len(X)):\n",
    "            x = X[iterator]\n",
    "            y = Y[iterator]\n",
    "            if decision_rule(w, x) * y <= 0:\n",
    "                # Miss classified the data point and adjust the weight\n",
    "                w_prev = w\n",
    "                w = update(w, x, y)\n",
    "                miss_classified = miss_classified + 1\n",
    "                print(\n",
    "                    \"Adjusting Weight from w: {} to w_new: {}\".format(\n",
    "                        tuple(w_prev), tuple(w)\n",
    "                    )\n",
    "                )        \n",
    "    #     plt_decision_boundary()\n",
    "        step += 1\n",
    "        if miss_classified == 0:\n",
    "            # if no miss classified then the perceptron has converged and found a hyperplane\n",
    "            print(\"Perceptron Converged on Step : {}\".format(step))\n",
    "            break\n",
    "    return w"
   ]
  },
  {
   "cell_type": "code",
   "execution_count": 29,
   "metadata": {},
   "outputs": [
    {
     "name": "stdout",
     "output_type": "stream",
     "text": [
      "Adjusting Weight from w: (0.6362007168458781, 0.9381898454746136, 1.0) to w_new: (0.6362007168458781, 0.9381898454746136, 1.0)\n",
      "Adjusting Weight from w: (0.37037037037037035, 0.17935982339955836, 0.0) to w_new: (0.37037037037037035, 0.17935982339955836, 0.0)\n",
      "Adjusting Weight from w: (0.020908004778972478, -0.48289183222958076, -1.0) to w_new: (0.020908004778972478, -0.48289183222958076, -1.0)\n",
      "Adjusting Weight from w: (0.6571087216248506, 0.45529801324503283, 0.0) to w_new: (0.6571087216248506, 0.45529801324503283, 0.0)\n",
      "Adjusting Weight from w: (0.3912783751493428, -0.3035320088300224, -1.0) to w_new: (0.3912783751493428, -0.3035320088300224, -1.0)\n",
      "Adjusting Weight from w: (1.0274790919952208, 0.6346578366445912, 0.0) to w_new: (1.0274790919952208, 0.6346578366445912, 0.0)\n",
      "Adjusting Weight from w: (0.7616487455197131, -0.12417218543046404, -1.0) to w_new: (0.7616487455197131, -0.12417218543046404, -1.0)\n",
      "Adjusting Weight from w: (1.397849462365591, 0.8140176600441495, 0.0) to w_new: (1.397849462365591, 0.8140176600441495, 0.0)\n",
      "Adjusting Weight from w: (1.1320191158900834, 0.055187637969094316, -1.0) to w_new: (1.1320191158900834, 0.055187637969094316, -1.0)\n",
      "Adjusting Weight from w: (1.7682198327359615, 0.9933774834437079, 0.0) to w_new: (1.7682198327359615, 0.9933774834437079, 0.0)\n",
      "Adjusting Weight from w: (1.5023894862604537, 0.23454746136865268, -1.0) to w_new: (1.5023894862604537, 0.23454746136865268, -1.0)\n",
      "Perceptron Converged on Step : 6\n"
     ]
    }
   ],
   "source": [
    "W = train(np.array([0.0, 0.0, 0.0]))"
   ]
  },
  {
   "cell_type": "code",
   "execution_count": 30,
   "metadata": {},
   "outputs": [],
   "source": [
    "def slope_intercept():\n",
    "    a, b, c = tuple(W)\n",
    "    return -a / b, -c / b\n",
    "\n",
    "def plt_decision_boundary():\n",
    "    slope, intercept = slope_intercept()\n",
    "\n",
    "    x = np.linspace(0, 1)\n",
    "    y = slope * x + intercept\n",
    "\n",
    "    plt.plot(x, y, \"-r\", label=\"decision boundary\")\n",
    "\n",
    "    plt.scatter(positive[:, 0], positive[:, 1], marker=\"o\")\n",
    "    plt.scatter(negative[:, 0], negative[:, 1], marker=\"x\")\n",
    "    plt.title(\"Graph of Decision Boundary\")\n",
    "    plt.xlabel(\"x\", color=\"#1C2833\")\n",
    "    plt.ylabel(\"y\", color=\"#1C2833\")\n",
    "    plt.legend(loc=\"upper left\")\n",
    "    plt.axis([0.0, 1, 0, 1])\n"
   ]
  },
  {
   "cell_type": "code",
   "execution_count": 31,
   "metadata": {},
   "outputs": [
    {
     "data": {
      "image/png": "[encoded data removed]",
      "text/plain": [
       "<Figure size 432x288 with 1 Axes>"
      ]
     },
     "metadata": {
      "needs_background": "light"
     },
     "output_type": "display_data"
    }
   ],
   "source": [
    "plt_decision_boundary()"
   ]
  }
 ],
 "metadata": {
  "kernelspec": {
   "display_name": "Python 3",
   "language": "python",
   "name": "python3"
  }
 },
 "nbformat": 4,
 "nbformat_minor": 4
}
