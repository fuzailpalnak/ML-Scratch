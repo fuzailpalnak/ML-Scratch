{
 "cells": [
  {
   "cell_type": "markdown",
   "metadata": {},
   "source": [
    "## Markov State\n",
    "\n",
    "#### Given a Transition Matrix, FInd the Stationary State of the system, Mostly used to monitor how the states evolve over the period of time.\n",
    "\n",
    "#### Applications - [New Product Launch], [Customer behaviour], [Market Penetration]"
   ]
  },
  {
   "cell_type": "code",
   "execution_count": 1,
   "metadata": {},
   "outputs": [],
   "source": [
    "import numpy as np"
   ]
  },
  {
   "cell_type": "markdown",
   "metadata": {},
   "source": [
    "#### Initial State represents probability of customer in each store"
   ]
  },
  {
   "cell_type": "code",
   "execution_count": 2,
   "metadata": {},
   "outputs": [],
   "source": [
    "STATES = [\"Store-A\", \"Store-B\", \"Store-C\"]\n",
    "STATES_IDX = {STATES[index]: index for index in\n",
    "                   range(len(STATES))}\n",
    "INITIAL_STATE = np.array([0.40, 0.24, 0.36]).astype(np.float32)"
   ]
  },
  {
   "cell_type": "markdown",
   "metadata": {},
   "source": [
    "#### Transition Matrix represents the probability of customer switching stores"
   ]
  },
  {
   "cell_type": "code",
   "execution_count": 3,
   "metadata": {},
   "outputs": [],
   "source": [
    "TRANSITION_MATRIX = [[0.8, 0.1, 0.1],\n",
    "                     [0.2,  0.7,  0.1],\n",
    "                     [0.1,  0.3,  0.6]]\n",
    "TRANSITION_MATRIX = np.array(TRANSITION_MATRIX).astype(np.float32)"
   ]
  },
  {
   "cell_type": "markdown",
   "metadata": {},
   "source": [
    "#### Our Goal is to find the final state of the store, which will tell us which store the customer are most likely to visit in future\n",
    "\n",
    "Stationary state is acheived when $\\vec{S}Q = \\vec{S}$"
   ]
  },
  {
   "cell_type": "code",
   "execution_count": 4,
   "metadata": {},
   "outputs": [
    {
     "name": "stdout",
     "output_type": "stream",
     "text": [
      "Final State [0.45000002 0.35       0.20000002]\n"
     ]
    }
   ],
   "source": [
    "eigenvalues, eigenvectors = np.linalg.eig(TRANSITION_MATRIX.T)\n",
    "idx = np.argmin(np.abs(eigenvalues - 1))\n",
    "FINAL_STATE = np.real(eigenvectors[:, idx]).T\n",
    "FINAL_STATE = FINAL_STATE/FINAL_STATE.sum()\n",
    "\n",
    "print(f\"Final State {FINAL_STATE}\")"
   ]
  }
 ],
 "metadata": {
  "kernelspec": {
   "display_name": "Python 3",
   "language": "python",
   "name": "python3"
  },
  "language_info": {
   "codemirror_mode": {
    "name": "ipython",
    "version": 3
   },
   "file_extension": ".py",
   "mimetype": "text/x-python",
   "name": "python",
   "nbconvert_exporter": "python",
   "pygments_lexer": "ipython3",
   "version": "3.7.6"
  }
 },
 "nbformat": 4,
 "nbformat_minor": 4
}
