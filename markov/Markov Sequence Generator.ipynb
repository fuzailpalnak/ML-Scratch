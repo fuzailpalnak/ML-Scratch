{
 "cells": [
  {
   "cell_type": "markdown",
   "metadata": {},
   "source": [
    "# Markov Sequence Generator"
   ]
  },
  {
   "cell_type": "code",
   "execution_count": 1,
   "metadata": {},
   "outputs": [],
   "source": [
    "import numpy as np"
   ]
  },
  {
   "cell_type": "code",
   "execution_count": 2,
   "metadata": {},
   "outputs": [],
   "source": [
    "STATES = [\"HAPPY\", \"ANGRY\", \"SAD\"]\n",
    "STATES_IDX = {STATES[index]: index for index in\n",
    "                   range(len(STATES))}\n",
    "INITIAL_STATE = np.array([0.6, 0.3, 0.1]).astype(np.float32)"
   ]
  },
  {
   "cell_type": "code",
   "execution_count": 3,
   "metadata": {},
   "outputs": [],
   "source": [
    "TRANSITION_MATRIX = [[0.4, 0.3, 0.3],\n",
    "                     [0.3,  0.6,  0.1],\n",
    "                     [0.1,  0.2,  0.7]]\n",
    "TRANSITION_MATRIX = np.array(TRANSITION_MATRIX).astype(np.float32)"
   ]
  },
  {
   "cell_type": "code",
   "execution_count": 4,
   "metadata": {},
   "outputs": [],
   "source": [
    "assert (TRANSITION_MATRIX.sum(axis=1) == np.ones(np.array(STATES).shape)).all(), \"Probability should equal to 1 for every row\"\n",
    "assert (INITIAL_STATE.sum() == 1), \"Initial STate Probabilty should sum to one\"\n"
   ]
  },
  {
   "cell_type": "markdown",
   "metadata": {},
   "source": [
    "#### Returns the sequence for the particular state"
   ]
  },
  {
   "cell_type": "code",
   "execution_count": 5,
   "metadata": {},
   "outputs": [],
   "source": [
    "def get_sequence(state):\n",
    "    return np.random.choice(\n",
    "        STATES,\n",
    "        p=TRANSITION_MATRIX[STATES_IDX[state], :]\n",
    "    )"
   ]
  },
  {
   "cell_type": "markdown",
   "metadata": {},
   "source": [
    "#### Generates the next sequence of the system.\n"
   ]
  },
  {
   "cell_type": "code",
   "execution_count": 6,
   "metadata": {},
   "outputs": [],
   "source": [
    "def generate_sequence(begin, num_of_sequence_to_generate=10):\n",
    "    current_state = begin\n",
    "    sequence_collect = [begin]\n",
    "    for i in range(num_of_sequence_to_generate-1):\n",
    "        sequence = get_sequence(current_state)\n",
    "        sequence_collect.append(sequence)\n",
    "        current_state = sequence\n",
    "    return sequence_collect"
   ]
  },
  {
   "cell_type": "markdown",
   "metadata": {},
   "source": [
    "#### Choose a random state to begin based on the INITIAL_STATE"
   ]
  },
  {
   "cell_type": "code",
   "execution_count": 7,
   "metadata": {},
   "outputs": [],
   "source": [
    "begin = np.random.choice(\n",
    "        STATES,\n",
    "        p=INITIAL_STATE\n",
    "    )"
   ]
  },
  {
   "cell_type": "code",
   "execution_count": 8,
   "metadata": {},
   "outputs": [
    {
     "name": "stdout",
     "output_type": "stream",
     "text": [
      "Generated Sequence ['HAPPY', 'SAD', 'SAD', 'SAD', 'SAD', 'SAD', 'SAD', 'SAD', 'SAD', 'ANGRY']\n"
     ]
    }
   ],
   "source": [
    "sequence = generate_sequence(begin)\n",
    "print(f\"Generated Sequence {sequence}\")"
   ]
  },
  {
   "cell_type": "markdown",
   "metadata": {},
   "source": [
    "#### Traverse back over the generated sequence and compute the probabilty of the sequence"
   ]
  },
  {
   "cell_type": "code",
   "execution_count": 9,
   "metadata": {},
   "outputs": [],
   "source": [
    "def get_probability_of_sequence(sequence):\n",
    "    begin = sequence[0]\n",
    "    prob = INITIAL_STATE[STATES_IDX[begin]]\n",
    "    \n",
    "    for i in range(len(sequence)-1):\n",
    "        prob *= TRANSITION_MATRIX[STATES_IDX[sequence[i]]][STATES_IDX[sequence[i+1]]]\n",
    "    return prob"
   ]
  },
  {
   "cell_type": "code",
   "execution_count": 10,
   "metadata": {},
   "outputs": [
    {
     "name": "stdout",
     "output_type": "stream",
     "text": [
      "Probability of Generated Sequence 0.0029647545889019966\n"
     ]
    }
   ],
   "source": [
    "print(f\"Probability of Generated Sequence {get_probability_of_sequence(sequence)}\")"
   ]
  }
 ],
 "metadata": {
  "kernelspec": {
   "display_name": "Python 3",
   "language": "python",
   "name": "python3"
  },
  "language_info": {
   "codemirror_mode": {
    "name": "ipython",
    "version": 3
   },
   "file_extension": ".py",
   "mimetype": "text/x-python",
   "name": "python",
   "nbconvert_exporter": "python",
   "pygments_lexer": "ipython3",
   "version": "3.7.6"
  }
 },
 "nbformat": 4,
 "nbformat_minor": 4
}
