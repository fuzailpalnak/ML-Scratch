{
 "cells": [
  {
   "cell_type": "code",
   "execution_count": 1,
   "metadata": {},
   "outputs": [],
   "source": [
    "import sys\n",
    "import numpy as np\n",
    "%matplotlib qt\n",
    "from matplotlib import pyplot as plt"
   ]
  },
  {
   "cell_type": "code",
   "execution_count": 2,
   "metadata": {},
   "outputs": [],
   "source": [
    "def dynamic_print(data):\n",
    "    sys.stdout.write(\"\\r\\x1b[K\" + data)\n",
    "    sys.stdout.flush()"
   ]
  },
  {
   "cell_type": "code",
   "execution_count": 3,
   "metadata": {},
   "outputs": [],
   "source": [
    "def get_random_points(mean, std_dev, n):\n",
    "    return np.random.normal(loc=mean, scale=std_dev, size=n)\n",
    "\n",
    "def get_data(data_points, slope, bias, variance):\n",
    "    X = np.linspace(0, data_points)\n",
    "    error = get_random_points(mean=0, std_dev=variance, n=len(X))\n",
    "    Y = ((X*slope) + bias) + error\n",
    "    return X, Y"
   ]
  },
  {
   "cell_type": "code",
   "execution_count": 4,
   "metadata": {},
   "outputs": [],
   "source": [
    "def absorb_bias(x):\n",
    "    new_x = list()\n",
    "    for i in range(len(x)):\n",
    "        data = [x[i], 1]\n",
    "        new_x.append(data)\n",
    "    return new_x"
   ]
  },
  {
   "cell_type": "code",
   "execution_count": 5,
   "metadata": {},
   "outputs": [
    {
     "data": {
      "image/png": "[encoded data removed]",
      "text/plain": [
       "<Figure size 432x288 with 1 Axes>"
      ]
     },
     "metadata": {
      "needs_background": "light"
     },
     "output_type": "display_data"
    }
   ],
   "source": [
    "%matplotlib inline\n",
    "DATA_POINTS = 900\n",
    "SLOPE = 2\n",
    "BIAS = 5\n",
    "ERROR_VARIANCE = 200\n",
    "\n",
    "X, Y = get_data(DATA_POINTS, SLOPE, BIAS, ERROR_VARIANCE)\n",
    "X_normalized = X/X.max()\n",
    "Y_normalized = Y/Y.max()\n",
    "plt.scatter(X_normalized,Y_normalized,s=None, marker='o',color='g',edgecolors='g',alpha=0.9,label=\"Linear Relation\")\n",
    "plt.show()\n",
    "X_normalized = absorb_bias(X_normalized)"
   ]
  },
  {
   "cell_type": "markdown",
   "metadata": {},
   "source": [
    "$$w^T * x =\\begin{cases}\\text{positive values } & w^T* x \\geq 0\\\\\\text{negative values } & w^T* x <  0\\end{cases}$$"
   ]
  },
  {
   "cell_type": "code",
   "execution_count": 6,
   "metadata": {},
   "outputs": [],
   "source": [
    "def decision_rule(w, x):\n",
    "    return np.dot(w, x)"
   ]
  },
  {
   "cell_type": "markdown",
   "metadata": {},
   "source": [
    "$$gradient = \\frac{ \\parallel w^T* x - y \\parallel }{w^T* x - y} $$"
   ]
  },
  {
   "cell_type": "code",
   "execution_count": 7,
   "metadata": {},
   "outputs": [],
   "source": [
    "def gradient(w, x, y):\n",
    "    decision = decision_rule(w, x) - y\n",
    "    if decision > 0:\n",
    "        return 1\n",
    "    elif decision < 0:\n",
    "        return -1"
   ]
  },
  {
   "cell_type": "markdown",
   "metadata": {},
   "source": [
    "$$\\text{loss = }|(w^T* x) - y |$$"
   ]
  },
  {
   "cell_type": "code",
   "execution_count": 8,
   "metadata": {},
   "outputs": [],
   "source": [
    "def loss(w, x, y):\n",
    "    return np.abs(decision_rule(w, x) - y)"
   ]
  },
  {
   "cell_type": "code",
   "execution_count": 9,
   "metadata": {},
   "outputs": [],
   "source": [
    "def train(w, lr, num_iter):\n",
    "    for num_iter in range(num_iter):\n",
    "        loss_iter = list()\n",
    "        for iterator in range(len(X)):\n",
    "            x = X_normalized[iterator]\n",
    "            y = Y_normalized[iterator]\n",
    "            w -= lr * gradient(w, x, y)\n",
    "            loss_iter.append(loss(w, x, y))\n",
    "        dynamic_print(\"Step: {} Loss : {}, W: {}\".format(num_iter+1, np.array(loss_iter).mean(), w))\n",
    "    print(\"\\nTraining Complete\")\n",
    "    return w"
   ]
  },
  {
   "cell_type": "code",
   "execution_count": 10,
   "metadata": {},
   "outputs": [
    {
     "name": "stdout",
     "output_type": "stream",
     "text": [
      "\u001b[KStep: 10000 Loss : 0.16533452312063251, W: [0.324 0.324]\n",
      "Training Complete\n"
     ]
    }
   ],
   "source": [
    "W = train(np.array([0.0, 0.0]), 0.001, 10000)"
   ]
  },
  {
   "cell_type": "code",
   "execution_count": 11,
   "metadata": {},
   "outputs": [],
   "source": [
    "%matplotlib inline\n",
    "def slope_intercept(w):\n",
    "    a, b = tuple(w)\n",
    "    return a, b\n",
    "\n",
    "\n",
    "def plt_decision_boundary(w):\n",
    "    slope, intercept = slope_intercept(w)\n",
    "\n",
    "    x = np.linspace(0, DATA_POINTS)\n",
    "    y = slope * x + intercept\n",
    "    plt.plot(x/x.max(), y/y.max(), \"-r\", label=\"decision boundary\")\n",
    "    plt.scatter(X/X.max(), Y/Y.max(), marker=\"o\")\n",
    "    plt.title(\"Graph of Decision Boundary\")\n",
    "    plt.xlabel(\"x\", color=\"#1C2833\")\n",
    "    plt.ylabel(\"y\", color=\"#1C2833\")\n",
    "    plt.legend(loc=\"upper left\")"
   ]
  },
  {
   "cell_type": "code",
   "execution_count": 12,
   "metadata": {},
   "outputs": [
    {
     "data": {
      "image/png": "[encoded data removed]",
      "text/plain": [
       "<Figure size 432x288 with 1 Axes>"
      ]
     },
     "metadata": {
      "needs_background": "light"
     },
     "output_type": "display_data"
    }
   ],
   "source": [
    "plt_decision_boundary(W)"
   ]
  }
 ],
 "metadata": {
  "kernelspec": {
   "display_name": "Python 3",
   "language": "python",
   "name": "python3"
  },
  "language_info": {
   "codemirror_mode": {
    "name": "ipython",
    "version": 3
   },
   "file_extension": ".py",
   "mimetype": "text/x-python",
   "name": "python",
   "nbconvert_exporter": "python",
   "pygments_lexer": "ipython3",
   "version": "3.7.6"
  }
 },
 "nbformat": 4,
 "nbformat_minor": 4
}
