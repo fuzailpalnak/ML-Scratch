{
 "cells": [
  {
   "cell_type": "code",
   "execution_count": 1,
   "metadata": {},
   "outputs": [],
   "source": [
    "import sys\n",
    "import numpy as np\n",
    "%matplotlib qt\n",
    "from matplotlib import pyplot as plt"
   ]
  },
  {
   "cell_type": "code",
   "execution_count": 2,
   "metadata": {},
   "outputs": [],
   "source": [
    "def dynamic_print(data):\n",
    "    sys.stdout.write(\"\\r\\x1b[K\" + data)\n",
    "    sys.stdout.flush()"
   ]
  },
  {
   "cell_type": "code",
   "execution_count": 3,
   "metadata": {},
   "outputs": [],
   "source": [
    "def plt_data_t(title, number_of_points):\n",
    "    plt.title(title, fontsize=10)\n",
    "    plt.draw()\n",
    "    pts = np.asarray(plt.ginput(number_of_points, timeout=-1))\n",
    "    return pts"
   ]
  },
  {
   "cell_type": "code",
   "execution_count": 4,
   "metadata": {},
   "outputs": [],
   "source": [
    "def populate_data():\n",
    "    positive = get_data(10)\n",
    "    X = list()\n",
    "    Y = list()\n",
    "    for i in range(len(positive)):\n",
    "        data = [positive[i][0], 1]\n",
    "        Y.append(np.array(positive[i][1]))\n",
    "        X.append(data)\n",
    "    return positive, X, Y"
   ]
  },
  {
   "cell_type": "code",
   "execution_count": 5,
   "metadata": {},
   "outputs": [],
   "source": [
    "def get_data(number_of_points):\n",
    "    plt.clf()\n",
    "    plt.setp(plt.gca(), autoscale_on=False)\n",
    "    data = plt_data_t(\"DATA\", number_of_points)\n",
    "    return data"
   ]
  },
  {
   "cell_type": "markdown",
   "metadata": {},
   "source": [
    "#### Get Positive and Negative Data Points, This block of code will load a Interactive GUI which will wait for user to provide input"
   ]
  },
  {
   "cell_type": "code",
   "execution_count": 6,
   "metadata": {},
   "outputs": [
    {
     "data": {
      "image/png": "[encoded data removed]",
      "text/plain": [
       "<Figure size 360x360 with 1 Axes>"
      ]
     },
     "metadata": {
      "needs_background": "light"
     },
     "output_type": "display_data"
    }
   ],
   "source": [
    "positive, X, Y = populate_data()\n",
    "plt.close()\n",
    "%matplotlib inline\n",
    "plt.rcParams[\"figure.figsize\"] = (5, 5)\n",
    "plt.scatter(positive[:, 0], positive[:, 1], marker=\"x\")\n",
    "plt.show()"
   ]
  },
  {
   "cell_type": "markdown",
   "metadata": {},
   "source": [
    "$$w^T * x =\\begin{cases}\\text{positive values } & w^T* x \\geq 0\\\\\\text{negative values } & w^T* x <  0\\end{cases}$$"
   ]
  },
  {
   "cell_type": "code",
   "execution_count": 8,
   "metadata": {},
   "outputs": [],
   "source": [
    "def decision_rule(w, x):\n",
    "    return np.dot(w, x)"
   ]
  },
  {
   "cell_type": "markdown",
   "metadata": {},
   "source": [
    "$$\\text{gradient = }2*(((w^T* x) - y) * x)$$"
   ]
  },
  {
   "cell_type": "code",
   "execution_count": 9,
   "metadata": {},
   "outputs": [],
   "source": [
    "def gradient(w, x, y):\n",
    "    return 2 * np.multiply((decision_rule(w, x) - y), x)"
   ]
  },
  {
   "cell_type": "markdown",
   "metadata": {},
   "source": [
    "$$\\text{loss = }((w^T* x) - y)^2$$"
   ]
  },
  {
   "cell_type": "code",
   "execution_count": 10,
   "metadata": {},
   "outputs": [],
   "source": [
    "def loss(w, x, y):\n",
    "    return np.square(decision_rule(w, x) - y)"
   ]
  },
  {
   "cell_type": "code",
   "execution_count": 11,
   "metadata": {},
   "outputs": [],
   "source": [
    "def train(w, lr, num_iter):\n",
    "    for num_iter in range(num_iter):\n",
    "        for iterator in range(len(X)):\n",
    "            x = X[iterator]\n",
    "            y = Y[iterator]\n",
    "            w -= lr * gradient(w, x, y)\n",
    "        dynamic_print(\"Step: {} Loss : {}\".format(num_iter+1, loss(w, x, y)))\n",
    "    print(\"\\nTraining Complete\")\n",
    "    return w"
   ]
  },
  {
   "cell_type": "code",
   "execution_count": 12,
   "metadata": {},
   "outputs": [
    {
     "name": "stdout",
     "output_type": "stream",
     "text": [
      "\u001b[KStep: 3000 Loss : 0.00454193397682754455\n",
      "Training Complete\n"
     ]
    }
   ],
   "source": [
    "W = train(np.array([0.0, 0.0]), 0.001, 3000)"
   ]
  },
  {
   "cell_type": "code",
   "execution_count": 13,
   "metadata": {},
   "outputs": [],
   "source": [
    "%matplotlib inline\n",
    "def slope_intercept():\n",
    "    a, b = tuple(W)\n",
    "    return a, b\n",
    "\n",
    "\n",
    "def plt_decision_boundary():\n",
    "    slope, intercept = slope_intercept()\n",
    "\n",
    "    x = np.linspace(0, 1)\n",
    "    y = slope * x + intercept\n",
    "    plt.plot(x, y, \"-r\", label=\"decision boundary\")\n",
    "    plt.scatter(positive[:, 0], positive[:, 1], marker=\"o\")\n",
    "    plt.title(\"Graph of Decision Boundary\")\n",
    "    plt.xlabel(\"x\", color=\"#1C2833\")\n",
    "    plt.ylabel(\"y\", color=\"#1C2833\")\n",
    "    plt.legend(loc=\"upper left\")\n",
    "    plt.axis([0.0, 1, 0, 1])"
   ]
  },
  {
   "cell_type": "code",
   "execution_count": 14,
   "metadata": {},
   "outputs": [
    {
     "data": {
      "image/png": "[encoded data removed]",
      "text/plain": [
       "<Figure size 432x288 with 1 Axes>"
      ]
     },
     "metadata": {
      "needs_background": "light"
     },
     "output_type": "display_data"
    }
   ],
   "source": [
    "plt_decision_boundary()"
   ]
  }
 ],
 "metadata": {
  "kernelspec": {
   "display_name": "Python 3",
   "language": "python",
   "name": "python3"
  },
  "language_info": {
   "codemirror_mode": {
    "name": "ipython",
    "version": 3
   },
   "file_extension": ".py",
   "mimetype": "text/x-python",
   "name": "python",
   "nbconvert_exporter": "python",
   "pygments_lexer": "ipython3",
   "version": "3.7.6"
  }
 },
 "nbformat": 4,
 "nbformat_minor": 4
}
