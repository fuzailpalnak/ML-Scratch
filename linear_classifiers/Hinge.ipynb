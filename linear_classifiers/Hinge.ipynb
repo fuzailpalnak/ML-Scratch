{
 "cells": [
  {
   "cell_type": "code",
   "execution_count": 1,
   "metadata": {},
   "outputs": [],
   "source": [
    "import sys\n",
    "import numpy as np\n",
    "%matplotlib qt\n",
    "from matplotlib import pyplot as plt"
   ]
  },
  {
   "cell_type": "code",
   "execution_count": 2,
   "metadata": {},
   "outputs": [],
   "source": [
    "def dynamic_print(data):\n",
    "    sys.stdout.write(\"\\r\\x1b[K\" + data)\n",
    "    sys.stdout.flush()"
   ]
  },
  {
   "cell_type": "code",
   "execution_count": 3,
   "metadata": {},
   "outputs": [],
   "source": [
    "def plt_data_t(title, number_of_points):\n",
    "    plt.title(title, fontsize=10)\n",
    "    plt.draw()\n",
    "    pts = np.asarray(plt.ginput(number_of_points, timeout=-1))\n",
    "    return pts\n",
    "\n",
    "def get_data(number_of_points):\n",
    "    plt.clf()\n",
    "    plt.setp(plt.gca(), autoscale_on=False)\n",
    "    positive = plt_data_t(\"Positive Class\", number_of_points)\n",
    "    negative = plt_data_t(\"Negative Class\", number_of_points)\n",
    "\n",
    "    plt.title(\"DATA\", fontsize=10)\n",
    "    plt.scatter(positive[:, 0], positive[:, 1], marker=\"o\")\n",
    "    plt.scatter(negative[:, 0], negative[:, 1], marker=\"x\")\n",
    "    return positive, negative\n",
    "\n",
    "def populate_data():\n",
    "    positive, negative = get_data(10)\n",
    "    X = list()\n",
    "    Y = list()\n",
    "    for i in range(len(positive)):\n",
    "        data = [positive[i][0], positive[i][1]]\n",
    "        X.append(np.array(data))\n",
    "        Y.append(1)\n",
    "    for i in range(len(negative)):\n",
    "        data = [negative[i][0], negative[i][1]]\n",
    "        X.append(np.array(data))\n",
    "        Y.append(-1)\n",
    "    return positive, negative, X, Y"
   ]
  },
  {
   "cell_type": "markdown",
   "metadata": {},
   "source": [
    "#### Get Positive and Negative Data Points, This block of code will load a Interactive GUI which will wait for user to provide input"
   ]
  },
  {
   "cell_type": "code",
   "execution_count": 4,
   "metadata": {},
   "outputs": [
    {
     "data": {
      "image/png": "[encoded data removed]",
      "text/plain": [
       "<Figure size 360x360 with 1 Axes>"
      ]
     },
     "metadata": {
      "needs_background": "light"
     },
     "output_type": "display_data"
    }
   ],
   "source": [
    "positive, negative, X, Y = populate_data()\n",
    "plt.close()\n",
    "%matplotlib inline\n",
    "plt.rcParams[\"figure.figsize\"] = (5, 5)\n",
    "plt.scatter(positive[:, 0], positive[:, 1], marker=\"o\", label=\"positive\")\n",
    "plt.scatter(negative[:, 0], negative[:, 1], marker=\"x\", label=\"negative\")\n",
    "plt.title(\"Data\")\n",
    "plt.legend(loc=\"upper left\")\n",
    "plt.show()"
   ]
  },
  {
   "cell_type": "markdown",
   "metadata": {},
   "source": [
    "$$w^T * x + b =\\begin{cases}\\text{positive values } & w^T* x + b \\geq 0\\\\\\text{negative values } & w^T* x + b <  0\\end{cases}$$"
   ]
  },
  {
   "cell_type": "code",
   "execution_count": 5,
   "metadata": {},
   "outputs": [],
   "source": [
    "def decision_rule(w, b, x):\n",
    "    return np.dot(w, x) + b"
   ]
  },
  {
   "cell_type": "markdown",
   "metadata": {},
   "source": [
    "$$\\text{loss = max} (0, 1 - (w^T* x + b) * y)^2$$"
   ]
  },
  {
   "cell_type": "code",
   "execution_count": 6,
   "metadata": {},
   "outputs": [],
   "source": [
    "def loss(w, b, x, y):\n",
    "    return np.maximum(0, 1 - ((decision_rule(w, b, x)) * y)) ** 2"
   ]
  },
  {
   "cell_type": "markdown",
   "metadata": {},
   "source": [
    "$$w_{grad}  =\\begin{cases}(-2 *x*y *( 1 - y*(w^T* x + b))) + (2*\\lambda *w) & y*(w^T* x + b) < 1\\\\\\vec{0}  & y*(w^T* x + b) > 1\\end{cases}$$"
   ]
  },
  {
   "cell_type": "markdown",
   "metadata": {},
   "source": [
    "$$b_{grad}  =\\begin{cases}-2 *y *( 1 - y*(w^T* x + b)) & y*(w^T* x + b) < 1\\\\\\vec{0} & y*(w^T* x + b) > 1\\end{cases}$$"
   ]
  },
  {
   "cell_type": "code",
   "execution_count": 7,
   "metadata": {},
   "outputs": [],
   "source": [
    "def gradient(w, b, x, y, weight_decay):\n",
    "    if decision_rule(w, b, x) * y < 1:\n",
    "        w_grad = -2 * x * y * (1 - y * decision_rule(w, b, x)) + (\n",
    "            2 * weight_decay * w\n",
    "        )\n",
    "        b_grad = -2 * y * (1 - y * decision_rule(w, b, x))\n",
    "    else:\n",
    "        w_grad = np.array([0.0, 0.0])\n",
    "        b_grad = np.array([0.0])\n",
    "    return w_grad, b_grad"
   ]
  },
  {
   "cell_type": "code",
   "execution_count": 11,
   "metadata": {},
   "outputs": [],
   "source": [
    "def gradient_step(lr, computed_gradient):\n",
    "    return -(lr * computed_gradient)"
   ]
  },
  {
   "cell_type": "code",
   "execution_count": 22,
   "metadata": {},
   "outputs": [],
   "source": [
    "def train(w, b, lr, C, num_iter):\n",
    "    weight_decay = 1/C\n",
    "    for num_iter in range(num_iter):\n",
    "        loss_collect = list()\n",
    "        for iterator in range(len(X)):\n",
    "            x = X[iterator]\n",
    "            y = Y[iterator]\n",
    "\n",
    "            w_grad, b_grad = gradient(w, b, x, y, weight_decay)\n",
    "            w += gradient_step(lr, w_grad)\n",
    "            b += gradient_step(lr, b_grad)\n",
    "            loss_collect.append(loss(w, b, x, y))\n",
    "        dynamic_print(\n",
    "            \"Step: {} Loss : {} W: {} B:{}\".format(\n",
    "                num_iter+1, np.array(loss_collect).mean(), w, b)\n",
    "        )\n",
    "    print(\"\\nTraining Complete\")\n",
    "    return w, b"
   ]
  },
  {
   "cell_type": "markdown",
   "metadata": {},
   "source": [
    "*The variable that controls the slack $ \\xi{i}$* is usaully denoted by $C$\n",
    "\n",
    "*If $C$ is very large, the classifier becomes very strict and tries to get all points to be on the right side of the hyperplane. If $C$ is very small, the classifier becomes very loose and may \"sacrifice\" some points to obtain a simpler margin*\n",
    "\n",
    "_In this implementation the varibale $C$ is dissolved in regularizer, making $ \\lambda =  \\frac{1}{C}$_"
   ]
  },
  {
   "cell_type": "code",
   "execution_count": null,
   "metadata": {},
   "outputs": [
    {
     "name": "stdout",
     "output_type": "stream",
     "text": [
      "\u001b[KStep: 43859 Loss : 0.321844621801617 W: [1.26534406 0.76984544] B:[-1.09095767]]5]53]"
     ]
    }
   ],
   "source": [
    "W, B = train(w=np.array([0.0, 0.0]), b=np.array([1.0]), lr=0.001, C=10, num_iter=50000)"
   ]
  },
  {
   "cell_type": "code",
   "execution_count": 24,
   "metadata": {},
   "outputs": [],
   "source": [
    "%matplotlib inline\n",
    "def slope_intercept():\n",
    "    a, b = tuple(W)\n",
    "    c = B\n",
    "    return -a / b, -c / b\n",
    "\n",
    "def plt_decision_boundary():\n",
    "    slope, intercept = slope_intercept()\n",
    "\n",
    "    x = np.linspace(0, 1)\n",
    "    y = slope * x + intercept\n",
    "\n",
    "    plt.plot(x, y, \"-r\", label=\"decision boundary\")\n",
    "\n",
    "    plt.scatter(positive[:, 0], positive[:, 1], marker=\"o\")\n",
    "    plt.scatter(negative[:, 0], negative[:, 1], marker=\"x\")\n",
    "    plt.title(\"Graph of Decision Boundary\")\n",
    "    plt.legend(loc=\"upper left\")\n",
    "    plt.axis([0.0, 1, 0, 1])\n",
    "    plt.show()"
   ]
  },
  {
   "cell_type": "code",
   "execution_count": 25,
   "metadata": {},
   "outputs": [
    {
     "data": {
      "image/png": "[encoded data removed]",
      "text/plain": [
       "<Figure size 432x288 with 1 Axes>"
      ]
     },
     "metadata": {
      "needs_background": "light"
     },
     "output_type": "display_data"
    }
   ],
   "source": [
    "plt_decision_boundary()"
   ]
  }
 ],
 "metadata": {
  "kernelspec": {
   "display_name": "Python 3",
   "language": "python",
   "name": "python3"
  },
  "language_info": {
   "codemirror_mode": {
    "name": "ipython",
    "version": 3
   },
   "file_extension": ".py",
   "mimetype": "text/x-python",
   "name": "python",
   "nbconvert_exporter": "python",
   "pygments_lexer": "ipython3",
   "version": "3.7.6"
  }
 },
 "nbformat": 4,
 "nbformat_minor": 4
}
